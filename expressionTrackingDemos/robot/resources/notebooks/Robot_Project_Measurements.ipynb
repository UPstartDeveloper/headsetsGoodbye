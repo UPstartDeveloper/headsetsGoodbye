{
  "nbformat": 4,
  "nbformat_minor": 0,
  "metadata": {
    "kernelspec": {
      "display_name": "Python 3",
      "language": "python",
      "name": "python3"
    },
    "language_info": {
      "codemirror_mode": {
        "name": "ipython",
        "version": 3
      },
      "file_extension": ".py",
      "mimetype": "text/x-python",
      "name": "python",
      "nbconvert_exporter": "python",
      "pygments_lexer": "ipython3",
      "version": "3.8.5"
    },
    "colab": {
      "name": "Robot_Project_Measurements.ipynb",
      "provenance": [],
      "collapsed_sections": []
    }
  },
  "cells": [
    {
      "cell_type": "markdown",
      "metadata": {
        "id": "ozdZIXIpfNph"
      },
      "source": [
        "# Objective 3: Producing a Smooth UI/UX\n",
        "\n",
        "## Balancing Stability and Responsiveness\n",
        "My goal here was to see if we could minimize the jitter in the app (defined as the number of times Roberto's expression changed, without the user's expression changing) while optimizing for the highest responsiveness (as measured my FPS) possible.\n",
        "\n",
        "### Measurement Procedure \n",
        "\n",
        "To do this, I decided to measure the performance of the app over 11 trials. In each trial, the *independent variable* was the duration of the Tweening animation. I would adjust this value by `0.10` seconds, starting at an initial value of `0.05` seconds.\n",
        "\n",
        "With each trial, I set a timer for `5` seconds, and during the trial I set a global Javascript variable `counter` in the code, that would start at `0` and increment each time the animation was triggered. Then it would logged to the console. Then, as the timer went down I would look at the camera and hold my expression in the \"surprised\" expression. \n",
        "\n",
        "**To summarize**, our *dependent variables* are the following:\n",
        "1.   **\"Expression Changes\"**: this was the number of times the animation was triggered.over a span of `5` seconds, as I held my face in the \"Surprised\" expression. It was logged to the console, using Google Chrome's Inspect tool, and measured using a global Javascript variable called `counter`.\n",
        "2.  **Max. FPS**: using `dat.gui.module.js` (sometimes called \"dat.GUI\"), I was able to measure the highest FPS achieved by the app over the course of the trial, which in total would take around 10 seconds. For interested readers, \"dat.GUI\" is a Javascript module came included with the boilerplate code I grabbed from the Three.js repository, and its [documentation](https://github.com/dataarts/dat.gui) is open-source as well."
      ]
    },
    {
      "cell_type": "markdown",
      "metadata": {
        "id": "qjXpioLgfNpk"
      },
      "source": [
        "### Measurements Between Tween, FPS, and Expression Changes\n"
      ]
    },
    {
      "cell_type": "code",
      "metadata": {
        "id": "FJTMp-jQglpo"
      },
      "source": [
        "import pandas as pd\n",
        "hg = pd.DataFrame({\n",
        "    \"Max_FPS\": [11, 11, 11, 11, 11, 11, 10, 10, 11, 11, 11],\n",
        "    \"Tweening_duration (sec)\": [0.05, .15, .25, .35, .45, .55, .65, .75, .85, .95, 1.05],\n",
        "    \"Oscillations_after_5_sec\": [60, 65, 62, 54, 43, 50, 43, 44, 39, 45, 50]\n",
        "})"
      ],
      "execution_count": null,
      "outputs": []
    },
    {
      "cell_type": "code",
      "metadata": {
        "colab": {
          "base_uri": "https://localhost:8080/",
          "height": 390
        },
        "id": "KZ8QnovS2tEv",
        "outputId": "4a2985de-ce80-4512-9116-24fa8ce5f060"
      },
      "source": [
        "hg.head(11)"
      ],
      "execution_count": null,
      "outputs": [
        {
          "output_type": "execute_result",
          "data": {
            "text/html": [
              "<div>\n",
              "<style scoped>\n",
              "    .dataframe tbody tr th:only-of-type {\n",
              "        vertical-align: middle;\n",
              "    }\n",
              "\n",
              "    .dataframe tbody tr th {\n",
              "        vertical-align: top;\n",
              "    }\n",
              "\n",
              "    .dataframe thead th {\n",
              "        text-align: right;\n",
              "    }\n",
              "</style>\n",
              "<table border=\"1\" class=\"dataframe\">\n",
              "  <thead>\n",
              "    <tr style=\"text-align: right;\">\n",
              "      <th></th>\n",
              "      <th>Max_FPS</th>\n",
              "      <th>Tweening_duration (sec)</th>\n",
              "      <th>Oscillations_after_5_sec</th>\n",
              "    </tr>\n",
              "  </thead>\n",
              "  <tbody>\n",
              "    <tr>\n",
              "      <th>0</th>\n",
              "      <td>11</td>\n",
              "      <td>0.05</td>\n",
              "      <td>60</td>\n",
              "    </tr>\n",
              "    <tr>\n",
              "      <th>1</th>\n",
              "      <td>11</td>\n",
              "      <td>0.15</td>\n",
              "      <td>65</td>\n",
              "    </tr>\n",
              "    <tr>\n",
              "      <th>2</th>\n",
              "      <td>11</td>\n",
              "      <td>0.25</td>\n",
              "      <td>62</td>\n",
              "    </tr>\n",
              "    <tr>\n",
              "      <th>3</th>\n",
              "      <td>11</td>\n",
              "      <td>0.35</td>\n",
              "      <td>54</td>\n",
              "    </tr>\n",
              "    <tr>\n",
              "      <th>4</th>\n",
              "      <td>11</td>\n",
              "      <td>0.45</td>\n",
              "      <td>43</td>\n",
              "    </tr>\n",
              "    <tr>\n",
              "      <th>5</th>\n",
              "      <td>11</td>\n",
              "      <td>0.55</td>\n",
              "      <td>50</td>\n",
              "    </tr>\n",
              "    <tr>\n",
              "      <th>6</th>\n",
              "      <td>10</td>\n",
              "      <td>0.65</td>\n",
              "      <td>43</td>\n",
              "    </tr>\n",
              "    <tr>\n",
              "      <th>7</th>\n",
              "      <td>10</td>\n",
              "      <td>0.75</td>\n",
              "      <td>44</td>\n",
              "    </tr>\n",
              "    <tr>\n",
              "      <th>8</th>\n",
              "      <td>11</td>\n",
              "      <td>0.85</td>\n",
              "      <td>39</td>\n",
              "    </tr>\n",
              "    <tr>\n",
              "      <th>9</th>\n",
              "      <td>11</td>\n",
              "      <td>0.95</td>\n",
              "      <td>45</td>\n",
              "    </tr>\n",
              "    <tr>\n",
              "      <th>10</th>\n",
              "      <td>11</td>\n",
              "      <td>1.05</td>\n",
              "      <td>50</td>\n",
              "    </tr>\n",
              "  </tbody>\n",
              "</table>\n",
              "</div>"
            ],
            "text/plain": [
              "    Max_FPS  Tweening_duration (sec)  Oscillations_after_5_sec\n",
              "0        11                     0.05                        60\n",
              "1        11                     0.15                        65\n",
              "2        11                     0.25                        62\n",
              "3        11                     0.35                        54\n",
              "4        11                     0.45                        43\n",
              "5        11                     0.55                        50\n",
              "6        10                     0.65                        43\n",
              "7        10                     0.75                        44\n",
              "8        11                     0.85                        39\n",
              "9        11                     0.95                        45\n",
              "10       11                     1.05                        50"
            ]
          },
          "metadata": {
            "tags": []
          },
          "execution_count": 19
        }
      ]
    },
    {
      "cell_type": "markdown",
      "metadata": {
        "id": "v3tvUUjHBEQX"
      },
      "source": [
        "### Visualizing the Results"
      ]
    },
    {
      "cell_type": "code",
      "metadata": {
        "colab": {
          "base_uri": "https://localhost:8080/",
          "height": 295
        },
        "id": "Rv9jBrz70jjw",
        "outputId": "0d62a89c-75f4-491c-9a95-9d4a3183752d"
      },
      "source": [
        "import matplotlib.pyplot as plt\n",
        "\n",
        "x1 = hg[\"Tweening_duration\"]\n",
        "\n",
        "y1 = hg[\"Max_FPS\"]\n",
        "y2 = hg[\"Oscillations_after_5_sec\"]\n",
        "\n",
        "plt.subplot(2, 1, 1)\n",
        "plt.plot(x1, y1, 'o-')\n",
        "plt.title('How Stability and Responsiveness Change within 10 seconds')\n",
        "plt.ylabel('Max. FPS')\n",
        "\n",
        "plt.subplot(2, 1, 2)\n",
        "plt.plot(x1, y2, '.-')\n",
        "plt.xlabel('Tweening Duration (sec)')\n",
        "plt.ylabel('Expression Changes')\n",
        "\n",
        "plt.show()"
      ],
      "execution_count": null,
      "outputs": [
        {
          "output_type": "display_data",
          "data": {
            "image/png": "[encoded data removed]",
            "text/plain": [
              "<Figure size 432x288 with 2 Axes>"
            ]
          },
          "metadata": {
            "tags": [],
            "needs_background": "light"
          }
        }
      ]
    }
  ]
}